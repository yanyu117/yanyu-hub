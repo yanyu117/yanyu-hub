{
 "cells": [
  {
   "cell_type": "code",
   "execution_count": 1,
   "id": "540c54b8-9523-4248-8292-fc356a77bd43",
   "metadata": {},
   "outputs": [],
   "source": [
    "from pyspark import SparkConf, SparkContext   #导包\n",
    "conf = SparkConf().setMaster(\"local\").setAppName(\"rdd\")  \n",
    "sc = SparkContext(conf = conf)"
   ]
  },
  {
   "cell_type": "code",
   "execution_count": 3,
   "id": "e88a339d-30b7-4836-8f73-b45f9f0082f7",
   "metadata": {},
   "outputs": [
    {
     "data": {
      "text/plain": [
       "['25, Private,226802, 11th,7, Never-married, Machine-op-inspct, Own-child, Black, Male,0,0,40, United-States, <=50K',\n",
       " '38, Private,89814, HS-grad,9, Married-civ-spouse, Farming-fishing, Husband, White, Male,0,0,50, United-States, <=50K',\n",
       " '28, Local-gov,336951, Assoc-acdm,12, Married-civ-spouse, Protective-serv, Husband, White, Male,0,0,40, United-States, >50K',\n",
       " '44, Private,160323, Some-college,10, Married-civ-spouse, Machine-op-inspct, Husband, Black, Male,7688,0,40, United-States, >50K',\n",
       " '34, Private,198693, 10th,6, Never-married, Other-service, Not-in-family, White, Male,0,0,30, United-States, <=50K',\n",
       " '63, Self-emp-not-inc,104626, Prof-school,15, Married-civ-spouse, Prof-specialty, Husband, White, Male,3103,0,32, United-States, >50K',\n",
       " '24, Private,369667, Some-college,10, Never-married, Other-service, Unmarried, White, Female,0,0,40, United-States, <=50K',\n",
       " '55, Private,104996, 7th-8th,4, Married-civ-spouse, Craft-repair, Husband, White, Male,0,0,10, United-States, <=50K',\n",
       " '65, Private,184454, HS-grad,9, Married-civ-spouse, Machine-op-inspct, Husband, White, Male,6418,0,40, United-States, >50K',\n",
       " '36, Federal-gov,212465, Bachelors,13, Married-civ-spouse, Adm-clerical, Husband, White, Male,0,0,40, United-States, <=50K']"
      ]
     },
     "execution_count": 3,
     "metadata": {},
     "output_type": "execute_result"
    }
   ],
   "source": [
    "#从hdfs中读取数据集并进行数据清洗\n",
    "lines = sc.textFile(\"hdfs://192.168.43.191:9000/adult2.txt\")\n",
    "lines1 = lines.filter(lambda line:(len(line.split(\",\"))==15))\n",
    "lines1.take(10)"
   ]
  },
  {
   "cell_type": "code",
   "execution_count": null,
   "id": "cdf3b800-25a6-4888-9a49-3560270f38c0",
   "metadata": {},
   "outputs": [],
   "source": []
  },
  {
   "cell_type": "code",
   "execution_count": 2,
   "id": "7754ea47-cae7-4c22-9e38-667c6fcb866a",
   "metadata": {},
   "outputs": [
    {
     "data": {
      "text/plain": [
       "['25, Private,226802, 11th,7, Never-married, Machine-op-inspct, Own-child, Black, Male,0,0,40, United-States, <=50K',\n",
       " '38, Private,89814, HS-grad,9, Married-civ-spouse, Farming-fishing, Husband, White, Male,0,0,50, United-States, <=50K',\n",
       " '28, Local-gov,336951, Assoc-acdm,12, Married-civ-spouse, Protective-serv, Husband, White, Male,0,0,40, United-States, >50K',\n",
       " '44, Private,160323, Some-college,10, Married-civ-spouse, Machine-op-inspct, Husband, Black, Male,7688,0,40, United-States, >50K',\n",
       " '34, Private,198693, 10th,6, Never-married, Other-service, Not-in-family, White, Male,0,0,30, United-States, <=50K',\n",
       " '63, Self-emp-not-inc,104626, Prof-school,15, Married-civ-spouse, Prof-specialty, Husband, White, Male,3103,0,32, United-States, >50K',\n",
       " '24, Private,369667, Some-college,10, Never-married, Other-service, Unmarried, White, Female,0,0,40, United-States, <=50K',\n",
       " '55, Private,104996, 7th-8th,4, Married-civ-spouse, Craft-repair, Husband, White, Male,0,0,10, United-States, <=50K',\n",
       " '65, Private,184454, HS-grad,9, Married-civ-spouse, Machine-op-inspct, Husband, White, Male,6418,0,40, United-States, >50K',\n",
       " '36, Federal-gov,212465, Bachelors,13, Married-civ-spouse, Adm-clerical, Husband, White, Male,0,0,40, United-States, <=50K']"
      ]
     },
     "execution_count": 2,
     "metadata": {},
     "output_type": "execute_result"
    }
   ],
   "source": [
    "lines = sc.textFile(\"adult2.txt\")\n",
    "#数据清洗 把长度不为15的都去掉\n",
    "lines1 = lines.filter(lambda line:(len(line.split(\",\"))==15))\n",
    "lines1.take(10)"
   ]
  },
  {
   "cell_type": "code",
   "execution_count": 3,
   "id": "d5a34d9c-3317-4ea6-88a0-66981d061161",
   "metadata": {},
   "outputs": [
    {
     "name": "stdout",
     "output_type": "stream",
     "text": [
      "+---+----------------+------+------------+-------------+------------------+-----------------+-------------+-----+------+------------+------------+--------------+--------------+------+\n",
      "|age|       workclass|fnlwgt|   education|education-num|    marital-status|       occupation| relationship| race|   sex|capital-gain|capital-loss|hours-per-week|native-country|income|\n",
      "+---+----------------+------+------------+-------------+------------------+-----------------+-------------+-----+------+------------+------------+--------------+--------------+------+\n",
      "| 25|         Private|226802|        11th|            7|     Never-married|Machine-op-inspct|    Own-child|Black|  Male|           0|           0|            40| United-States| <=50K|\n",
      "| 38|         Private| 89814|     HS-grad|            9|Married-civ-spouse|  Farming-fishing|      Husband|White|  Male|           0|           0|            50| United-States| <=50K|\n",
      "| 28|       Local-gov|336951|  Assoc-acdm|           12|Married-civ-spouse|  Protective-serv|      Husband|White|  Male|           0|           0|            40| United-States|  >50K|\n",
      "| 44|         Private|160323|Some-college|           10|Married-civ-spouse|Machine-op-inspct|      Husband|Black|  Male|        7688|           0|            40| United-States|  >50K|\n",
      "| 34|         Private|198693|        10th|            6|     Never-married|    Other-service|Not-in-family|White|  Male|           0|           0|            30| United-States| <=50K|\n",
      "| 63|Self-emp-not-inc|104626| Prof-school|           15|Married-civ-spouse|   Prof-specialty|      Husband|White|  Male|        3103|           0|            32| United-States|  >50K|\n",
      "| 24|         Private|369667|Some-college|           10|     Never-married|    Other-service|    Unmarried|White|Female|           0|           0|            40| United-States| <=50K|\n",
      "| 55|         Private|104996|     7th-8th|            4|Married-civ-spouse|     Craft-repair|      Husband|White|  Male|           0|           0|            10| United-States| <=50K|\n",
      "| 65|         Private|184454|     HS-grad|            9|Married-civ-spouse|Machine-op-inspct|      Husband|White|  Male|        6418|           0|            40| United-States|  >50K|\n",
      "| 36|     Federal-gov|212465|   Bachelors|           13|Married-civ-spouse|     Adm-clerical|      Husband|White|  Male|           0|           0|            40| United-States| <=50K|\n",
      "| 26|         Private| 82091|     HS-grad|            9|     Never-married|     Adm-clerical|Not-in-family|White|Female|           0|           0|            39| United-States| <=50K|\n",
      "| 48|         Private|279724|     HS-grad|            9|Married-civ-spouse|Machine-op-inspct|      Husband|White|  Male|        3103|           0|            48| United-States|  >50K|\n",
      "| 43|         Private|346189|     Masters|           14|Married-civ-spouse|  Exec-managerial|      Husband|White|  Male|           0|           0|            50| United-States|  >50K|\n",
      "| 20|       State-gov|444554|Some-college|           10|     Never-married|    Other-service|    Own-child|White|  Male|           0|           0|            25| United-States| <=50K|\n",
      "| 43|         Private|128354|     HS-grad|            9|Married-civ-spouse|     Adm-clerical|         Wife|White|Female|           0|           0|            30| United-States| <=50K|\n",
      "| 37|         Private| 60548|     HS-grad|            9|           Widowed|Machine-op-inspct|    Unmarried|White|Female|           0|           0|            20| United-States| <=50K|\n",
      "| 34|         Private|107914|   Bachelors|           13|Married-civ-spouse|     Tech-support|      Husband|White|  Male|           0|           0|            47| United-States|  >50K|\n",
      "| 34|         Private|238588|Some-college|           10|     Never-married|    Other-service|    Own-child|Black|Female|           0|           0|            35| United-States| <=50K|\n",
      "| 25|         Private|220931|   Bachelors|           13|     Never-married|   Prof-specialty|Not-in-family|White|  Male|           0|           0|            43|          Peru| <=50K|\n",
      "| 25|         Private|205947|   Bachelors|           13|Married-civ-spouse|   Prof-specialty|      Husband|White|  Male|           0|           0|            40| United-States| <=50K|\n",
      "+---+----------------+------+------------+-------------+------------------+-----------------+-------------+-----+------+------------+------------+--------------+--------------+------+\n",
      "only showing top 20 rows\n",
      "\n"
     ]
    }
   ],
   "source": [
    "from pyspark import SparkContext,SparkConf        #导包\n",
    "from pyspark.sql import SparkSession\n",
    "spark = SparkSession.builder.config(conf = SparkConf()).getOrCreate() #创建sparksession对象\n",
    "#使用编程方式定义RDD\n",
    "from pyspark.sql.types import *    \n",
    "from pyspark.sql import Row\n",
    "#生成表头\n",
    "schemaString = \"age workclass fnlwgt education education-num marital-status occupation relationship race sex capital-gain capital-loss hours-per-week native-country income\"\n",
    "fields = [StructField(field_name, StringType(), True) for field_name in schemaString.split(\" \")]\n",
    "schema = StructType(fields)\n",
    "#生成表的记录\n",
    "parts = lines1.map(lambda x:x.split(\",\"))\n",
    "adult = parts.map(lambda p:Row(p[0].strip(),p[1].strip(),p[2].strip(),p[3].strip(),p[4].strip(),p[5].strip(),p[6].strip(),p[7].strip(),p[8].strip(),p[9].strip(),p[10].strip(),p[11].strip(),p[12].strip(),p[13].strip(),p[14].strip()))   #strip() 删除空白符\n",
    "#将表头和表中记录拼接\n",
    "df = spark.createDataFrame(adult,schema)\n",
    "#展示\n",
    "df.show()"
   ]
  },
  {
   "cell_type": "code",
   "execution_count": 4,
   "id": "2059b193-e4be-400d-8a42-62dafce12308",
   "metadata": {},
   "outputs": [
    {
     "data": {
      "text/plain": [
       "DataFrame[age: string, workclass: string, fnlwgt: string, education: string, education-num: string, marital-status: string, occupation: string, relationship: string, race: string, sex: string, capital-gain: string, capital-loss: string, hours-per-week: string, native-country: string, income: string]"
      ]
     },
     "execution_count": 4,
     "metadata": {},
     "output_type": "execute_result"
    }
   ],
   "source": [
    "df.distinct()  #去重"
   ]
  },
  {
   "cell_type": "code",
   "execution_count": 5,
   "id": "ec37f7ff-0c43-4020-8a6c-29b280705ad3",
   "metadata": {},
   "outputs": [
    {
     "data": {
      "text/plain": [
       "DataFrame[age: string, workclass: string, education: string, education-num: string, marital-status: string, occupation: string, relationship: string, race: string, sex: string, capital-gain: string, capital-loss: string, hours-per-week: string, native-country: string, income: string]"
      ]
     },
     "execution_count": 5,
     "metadata": {},
     "output_type": "execute_result"
    }
   ],
   "source": [
    "#删除不必要的数据列\n",
    "df.drop(\"fnlwgt\")"
   ]
  },
  {
   "cell_type": "code",
   "execution_count": null,
   "id": "ed327c20-6e0e-4c59-8e91-e984004503f6",
   "metadata": {},
   "outputs": [],
   "source": []
  },
  {
   "cell_type": "code",
   "execution_count": 6,
   "id": "c0879cf3-c812-4d8f-a167-6738a6dcb6cd",
   "metadata": {},
   "outputs": [
    {
     "name": "stdout",
     "output_type": "stream",
     "text": [
      "+---+------+\n",
      "|age|income|\n",
      "+---+------+\n",
      "| 25| <=50K|\n",
      "| 38| <=50K|\n",
      "| 28|  >50K|\n",
      "| 44|  >50K|\n",
      "| 34| <=50K|\n",
      "| 63|  >50K|\n",
      "| 24| <=50K|\n",
      "| 55| <=50K|\n",
      "| 65|  >50K|\n",
      "| 36| <=50K|\n",
      "| 26| <=50K|\n",
      "| 48|  >50K|\n",
      "| 43|  >50K|\n",
      "| 20| <=50K|\n",
      "| 43| <=50K|\n",
      "| 37| <=50K|\n",
      "| 34|  >50K|\n",
      "| 34| <=50K|\n",
      "| 25| <=50K|\n",
      "| 25| <=50K|\n",
      "+---+------+\n",
      "only showing top 20 rows\n",
      "\n"
     ]
    }
   ],
   "source": [
    "#选择age列和income列 分析age对income的影响\n",
    "df_age = df.select(df[\"age\"],df[\"income\"])\n",
    "df_age.show()"
   ]
  },
  {
   "cell_type": "code",
   "execution_count": 7,
   "id": "10273527-d801-46f2-888a-1e5d8284d25f",
   "metadata": {},
   "outputs": [],
   "source": [
    "from pyspark.sql import functions\n",
    "#使用lit方法添加常量数据  withColumn方法新增一列数据"
   ]
  },
  {
   "cell_type": "code",
   "execution_count": 8,
   "id": "e63489c0-5d14-497d-8772-4621ce627cd6",
   "metadata": {},
   "outputs": [
    {
     "name": "stdout",
     "output_type": "stream",
     "text": [
      "+------+-----+---------+\n",
      "|income|count|age_stage|\n",
      "+------+-----+---------+\n",
      "|  >50K|  721|     青年|\n",
      "+------+-----+---------+\n",
      "\n"
     ]
    }
   ],
   "source": [
    "#age 17~30 income>50\n",
    "df_age_1 = df_age.filter(df_age[\"age\"]>17).filter(df_age[\"age\"]<30).filter(df_age[\"income\"]==\">50K\").groupBy(\"income\").count()\n",
    "df_age_1 = df_age_1.withColumn(\"age_stage\",functions.lit(\"青年\"))\n",
    "df_age_1.show()"
   ]
  },
  {
   "cell_type": "code",
   "execution_count": 9,
   "id": "a1cc8ddb-c429-45b3-8961-9935dbc4ccec",
   "metadata": {},
   "outputs": [
    {
     "name": "stdout",
     "output_type": "stream",
     "text": [
      "+------+-----+---------+\n",
      "|income|count|age_stage|\n",
      "+------+-----+---------+\n",
      "| <=50K|11831|     青年|\n",
      "+------+-----+---------+\n",
      "\n"
     ]
    }
   ],
   "source": [
    "#age 17~30 income<=50\n",
    "df_age_2 = df_age.filter(df_age[\"age\"]>17).filter(df_age[\"age\"]<30).filter(df_age[\"income\"]==\"<=50K\").groupBy(\"income\").count()\n",
    "df_age_2 = df_age_2.withColumn(\"age_stage\",functions.lit(\"青年\"))\n",
    "df_age_2.show()"
   ]
  },
  {
   "cell_type": "code",
   "execution_count": 10,
   "id": "3cb34087-7554-41e2-ae59-6bee4ed07e08",
   "metadata": {},
   "outputs": [
    {
     "name": "stdout",
     "output_type": "stream",
     "text": [
      "+------+-----+---------+\n",
      "|income|count|age_stage|\n",
      "+------+-----+---------+\n",
      "|  >50K|10141|     中年|\n",
      "+------+-----+---------+\n",
      "\n"
     ]
    }
   ],
   "source": [
    "#age 30~65 income>50\n",
    "df_age_3 = df_age.filter(df_age[\"age\"]>=30).filter(df_age[\"age\"]<65).filter(df_age[\"income\"]==\">50K\").groupBy(\"income\").count()\n",
    "df_age_3 = df_age_3.withColumn(\"age_stage\",functions.lit(\"中年\"))\n",
    "df_age_3.show()"
   ]
  },
  {
   "cell_type": "code",
   "execution_count": 11,
   "id": "aa526da5-8aa8-45d9-9277-33417d460df2",
   "metadata": {},
   "outputs": [
    {
     "name": "stdout",
     "output_type": "stream",
     "text": [
      "+------+-----+---------+\n",
      "|income|count|age_stage|\n",
      "+------+-----+---------+\n",
      "| <=50K|20475|     中年|\n",
      "+------+-----+---------+\n",
      "\n"
     ]
    }
   ],
   "source": [
    "#age 30~65 income<=50\n",
    "df_age_4 = df_age.filter(df_age[\"age\"]>=30).filter(df_age[\"age\"]<65).filter(df_age[\"income\"]==\"<=50K\").groupBy(\"income\").count()\n",
    "df_age_4 = df_age_4.withColumn(\"age_stage\",functions.lit(\"中年\"))\n",
    "df_age_4.show()"
   ]
  },
  {
   "cell_type": "code",
   "execution_count": 12,
   "id": "a94093c8-36cb-400e-a137-1c347eadb738",
   "metadata": {},
   "outputs": [
    {
     "name": "stdout",
     "output_type": "stream",
     "text": [
      "+------+-----+---------+\n",
      "|income|count|age_stage|\n",
      "+------+-----+---------+\n",
      "|  >50K|  346|     老年|\n",
      "+------+-----+---------+\n",
      "\n"
     ]
    }
   ],
   "source": [
    "#age 65~100 income>50\n",
    "df_age_5 = df_age.filter(df_age[\"age\"]>=65).filter(df_age[\"age\"]<100).filter(df_age[\"income\"]==\">50K\").groupBy(\"income\").count()\n",
    "df_age_5 = df_age_5.withColumn(\"age_stage\",functions.lit(\"老年\"))\n",
    "df_age_5.show()"
   ]
  },
  {
   "cell_type": "code",
   "execution_count": 13,
   "id": "299db229-687b-4f19-98a5-1cb9e89df06d",
   "metadata": {},
   "outputs": [
    {
     "name": "stdout",
     "output_type": "stream",
     "text": [
      "+------+-----+---------+\n",
      "|income|count|age_stage|\n",
      "+------+-----+---------+\n",
      "| <=50K| 1215|     老年|\n",
      "+------+-----+---------+\n",
      "\n"
     ]
    }
   ],
   "source": [
    "#age 65~100 income<=50\n",
    "df_age_6 = df_age.filter(df_age[\"age\"]>=65).filter(df_age[\"age\"]<100).filter(df_age[\"income\"]==\"<=50K\").groupBy(\"income\").count()\n",
    "df_age_6 = df_age_6.withColumn(\"age_stage\",functions.lit(\"老年\"))\n",
    "df_age_6.show()"
   ]
  },
  {
   "cell_type": "code",
   "execution_count": 14,
   "id": "63a1c269-bd2c-48ff-81dc-6da68a7e7429",
   "metadata": {},
   "outputs": [
    {
     "name": "stdout",
     "output_type": "stream",
     "text": [
      "+------+-----+---------+\n",
      "|income|count|age_stage|\n",
      "+------+-----+---------+\n",
      "|  >50K|  721|     青年|\n",
      "| <=50K|11831|     青年|\n",
      "|  >50K|10141|     中年|\n",
      "| <=50K|20475|     中年|\n",
      "|  >50K|  346|     老年|\n",
      "| <=50K| 1215|     老年|\n",
      "+------+-----+---------+\n",
      "\n"
     ]
    }
   ],
   "source": [
    "#合并多个df\n",
    "from functools import reduce\n",
    "from pyspark.sql import DataFrame\n",
    "def unionAll(*dfs):\n",
    "    return reduce(DataFrame.unionAll,dfs)\n",
    "\n",
    "df_list=[df_age_1,df_age_2,df_age_3,df_age_4,df_age_5,df_age_6]\n",
    "df_age_merge = unionAll(*df_list)\n",
    "df_age_merge.show()"
   ]
  },
  {
   "cell_type": "code",
   "execution_count": 19,
   "id": "6a81804a-5cbd-4992-a5df-4dcb673368f4",
   "metadata": {},
   "outputs": [
    {
     "name": "stdout",
     "output_type": "stream",
     "text": [
      "root\n",
      " |-- income: string (nullable = true)\n",
      " |-- count: long (nullable = false)\n",
      " |-- age_stage: string (nullable = false)\n",
      "\n"
     ]
    }
   ],
   "source": [
    "df_age_merge.printSchema()"
   ]
  },
  {
   "cell_type": "code",
   "execution_count": 22,
   "id": "dabdf1fb-2c72-43f3-a018-b011341d2c93",
   "metadata": {},
   "outputs": [],
   "source": [
    "#写入数据库\n",
    "prop = {}\n",
    "prop['user'] = 'root'\n",
    "prop['password'] = '1'\n",
    "prop['driver'] = \"com.mysql.jdbc.Driver\"\n",
    "df_age_merge.write.jdbc(\"jdbc:mysql://192.168.43.190:3306/spark?serverTimezone=UTC&&useSSL=false\",'age','append', prop)"
   ]
  },
  {
   "cell_type": "code",
   "execution_count": null,
   "id": "c5cf0fab-76b8-4d8b-928e-1833143327e2",
   "metadata": {},
   "outputs": [],
   "source": [
    "#对性别分析"
   ]
  },
  {
   "cell_type": "code",
   "execution_count": 23,
   "id": "4763823c-e115-4db5-a1ed-45468d18c1fd",
   "metadata": {},
   "outputs": [
    {
     "name": "stdout",
     "output_type": "stream",
     "text": [
      "+------+------+\n",
      "|   sex|income|\n",
      "+------+------+\n",
      "|  Male| <=50K|\n",
      "|  Male| <=50K|\n",
      "|  Male|  >50K|\n",
      "|  Male|  >50K|\n",
      "|  Male| <=50K|\n",
      "|  Male|  >50K|\n",
      "|Female| <=50K|\n",
      "|  Male| <=50K|\n",
      "|  Male|  >50K|\n",
      "|  Male| <=50K|\n",
      "|Female| <=50K|\n",
      "|  Male|  >50K|\n",
      "|  Male|  >50K|\n",
      "|  Male| <=50K|\n",
      "|Female| <=50K|\n",
      "|Female| <=50K|\n",
      "|  Male|  >50K|\n",
      "|Female| <=50K|\n",
      "|  Male| <=50K|\n",
      "|  Male| <=50K|\n",
      "+------+------+\n",
      "only showing top 20 rows\n",
      "\n"
     ]
    }
   ],
   "source": [
    "df_sex = df.select(df[\"sex\"],df[\"income\"])\n",
    "df_sex.show()"
   ]
  },
  {
   "cell_type": "code",
   "execution_count": 24,
   "id": "182cac92-1fd7-41a1-b5cb-cd112f24dbd6",
   "metadata": {},
   "outputs": [
    {
     "name": "stdout",
     "output_type": "stream",
     "text": [
      "+------+-----+------+\n",
      "|   sex|count|income|\n",
      "+------+-----+------+\n",
      "|Female| 1669|  >50K|\n",
      "|  Male| 9539|  >50K|\n",
      "+------+-----+------+\n",
      "\n"
     ]
    }
   ],
   "source": [
    "# >50K \n",
    "df_sex_1 = df_sex.filter(df_sex[\"income\"]==\">50K\").groupBy(\"sex\").count()\n",
    "df_sex_1 = df_sex_1.withColumn(\"income\",functions.lit(\">50K\"))\n",
    "df_sex_1.show()"
   ]
  },
  {
   "cell_type": "code",
   "execution_count": 25,
   "id": "2aeef4fa-a1cc-45cf-aad9-c95ad811b1e7",
   "metadata": {},
   "outputs": [
    {
     "name": "stdout",
     "output_type": "stream",
     "text": [
      "+------+-----+------+\n",
      "|   sex|count|income|\n",
      "+------+-----+------+\n",
      "|Female|13026| <=50K|\n",
      "|  Male|20988| <=50K|\n",
      "+------+-----+------+\n",
      "\n"
     ]
    }
   ],
   "source": [
    "# <=50K \n",
    "df_sex_2 = df_sex.filter(df_sex[\"income\"]==\"<=50K\").groupBy(\"sex\").count()\n",
    "df_sex_2 = df_sex_2.withColumn(\"income\",functions.lit(\"<=50K\"))\n",
    "df_sex_2.show()"
   ]
  },
  {
   "cell_type": "code",
   "execution_count": 26,
   "id": "91697403-bb35-4d01-9c87-361b04ce3206",
   "metadata": {},
   "outputs": [
    {
     "name": "stdout",
     "output_type": "stream",
     "text": [
      "+------+-----+------+\n",
      "|   sex|count|income|\n",
      "+------+-----+------+\n",
      "|Female| 1669|  >50K|\n",
      "|  Male| 9539|  >50K|\n",
      "|Female|13026| <=50K|\n",
      "|  Male|20988| <=50K|\n",
      "+------+-----+------+\n",
      "\n"
     ]
    }
   ],
   "source": [
    "#合并多个df\n",
    "from functools import reduce\n",
    "from pyspark.sql import DataFrame\n",
    "def unionAll(*dfs):\n",
    "    return reduce(DataFrame.unionAll,dfs)\n",
    "\n",
    "df_list=[df_sex_1,df_sex_2]\n",
    "df_sex_merge = unionAll(*df_list)\n",
    "df_sex_merge.show()"
   ]
  },
  {
   "cell_type": "code",
   "execution_count": 54,
   "id": "aaa3a98f-6ca5-4528-9a34-eb8f95f98313",
   "metadata": {},
   "outputs": [],
   "source": [
    "#写入数据库\n",
    "prop = {}\n",
    "prop['user'] = 'root'\n",
    "prop['password'] = '1'\n",
    "prop['driver'] = \"com.mysql.jdbc.Driver\"\n",
    "df_sex_1.write.jdbc(\"jdbc:mysql://192.168.43.190:3306/spark?serverTimezone=UTC&&useSSL=false\",'sex_1','append', prop)"
   ]
  },
  {
   "cell_type": "code",
   "execution_count": 55,
   "id": "d89050fc-57fc-4957-9a80-138655296965",
   "metadata": {},
   "outputs": [],
   "source": [
    "#写入数据库\n",
    "prop = {}\n",
    "prop['user'] = 'root'\n",
    "prop['password'] = '1'\n",
    "prop['driver'] = \"com.mysql.jdbc.Driver\"\n",
    "df_sex_2.write.jdbc(\"jdbc:mysql://192.168.43.190:3306/spark?serverTimezone=UTC&&useSSL=false\",'sex_2','append', prop)"
   ]
  },
  {
   "cell_type": "code",
   "execution_count": null,
   "id": "a31b435a-0f72-4d14-a5bd-7947357fd39a",
   "metadata": {},
   "outputs": [],
   "source": []
  },
  {
   "cell_type": "code",
   "execution_count": 28,
   "id": "29498564-106d-47a0-82f4-d5046f3bd7b0",
   "metadata": {},
   "outputs": [],
   "source": [
    "#对种族分析\n",
    "df_race = df.select(df[\"race\"],df[\"income\"])\n"
   ]
  },
  {
   "cell_type": "code",
   "execution_count": 29,
   "id": "14f16254-9d5d-44c4-b10d-5afdd26174cf",
   "metadata": {},
   "outputs": [
    {
     "name": "stdout",
     "output_type": "stream",
     "text": [
      "+------------------+-----+------+\n",
      "|              race|count|income|\n",
      "+------------------+-----+------+\n",
      "|             Other|   45|  >50K|\n",
      "|Amer-Indian-Eskimo|   53|  >50K|\n",
      "|             White|10207|  >50K|\n",
      "|Asian-Pac-Islander|  369|  >50K|\n",
      "|             Black|  534|  >50K|\n",
      "+------------------+-----+------+\n",
      "\n"
     ]
    }
   ],
   "source": [
    "#  >50K \n",
    "df_race_1 = df_race.filter(df_race[\"income\"]==\">50K\").groupBy(\"race\").count()\n",
    "df_race_1 = df_race_1.withColumn(\"income\",functions.lit(\">50K\"))\n",
    "df_race_1.show()"
   ]
  },
  {
   "cell_type": "code",
   "execution_count": 56,
   "id": "8674d969-9849-4697-b186-53f4fb602edf",
   "metadata": {},
   "outputs": [],
   "source": [
    "#写入数据库\n",
    "prop = {}\n",
    "prop['user'] = 'root'\n",
    "prop['password'] = '1'\n",
    "prop['driver'] = \"com.mysql.jdbc.Driver\"\n",
    "df_race_1.write.jdbc(\"jdbc:mysql://192.168.43.190:3306/spark?serverTimezone=UTC&&useSSL=false\",'race_1','append', prop)"
   ]
  },
  {
   "cell_type": "code",
   "execution_count": 30,
   "id": "1bfd46ad-c3ce-46a2-a1a3-0228ec350348",
   "metadata": {},
   "outputs": [
    {
     "name": "stdout",
     "output_type": "stream",
     "text": [
      "+------------------+-----+------+\n",
      "|              race|count|income|\n",
      "+------------------+-----+------+\n",
      "|             Other|  308| <=50K|\n",
      "|Amer-Indian-Eskimo|  382| <=50K|\n",
      "|             White|28696| <=50K|\n",
      "|Asian-Pac-Islander|  934| <=50K|\n",
      "|             Black| 3694| <=50K|\n",
      "+------------------+-----+------+\n",
      "\n"
     ]
    }
   ],
   "source": [
    "#  <=50K \n",
    "df_race_2 = df_race.filter(df_race[\"income\"]==\"<=50K\").groupBy(\"race\").count()\n",
    "df_race_2 = df_race_2.withColumn(\"income\",functions.lit(\"<=50K\"))\n",
    "df_race_2.show()"
   ]
  },
  {
   "cell_type": "code",
   "execution_count": 57,
   "id": "7d66902d-3011-421f-8f76-fd0e6060fb6e",
   "metadata": {},
   "outputs": [],
   "source": [
    "#写入数据库\n",
    "prop = {}\n",
    "prop['user'] = 'root'\n",
    "prop['password'] = '1'\n",
    "prop['driver'] = \"com.mysql.jdbc.Driver\"\n",
    "df_race_2.write.jdbc(\"jdbc:mysql://192.168.43.190:3306/spark?serverTimezone=UTC&&useSSL=false\",'race_2','append', prop)"
   ]
  },
  {
   "cell_type": "code",
   "execution_count": null,
   "id": "b0b5b195-2f3b-4055-8660-e9ccf2d78a38",
   "metadata": {},
   "outputs": [],
   "source": []
  },
  {
   "cell_type": "code",
   "execution_count": 32,
   "id": "63b1a0e2-6549-4177-9bc0-bb71143dee9d",
   "metadata": {},
   "outputs": [
    {
     "name": "stdout",
     "output_type": "stream",
     "text": [
      "+------------+-----+------+\n",
      "|   education|count|income|\n",
      "+------------+-----+------+\n",
      "|     Masters| 1393|  >50K|\n",
      "|        10th|   82|  >50K|\n",
      "|     5th-6th|   22|  >50K|\n",
      "|  Assoc-acdm|  398|  >50K|\n",
      "|   Assoc-voc|  504|  >50K|\n",
      "|     7th-8th|   55|  >50K|\n",
      "|         9th|   38|  >50K|\n",
      "|     HS-grad| 2416|  >50K|\n",
      "|   Bachelors| 3178|  >50K|\n",
      "|        11th|   89|  >50K|\n",
      "|     1st-4th|    8|  >50K|\n",
      "|   Preschool|    1|  >50K|\n",
      "|        12th|   43|  >50K|\n",
      "|   Doctorate|  399|  >50K|\n",
      "|Some-college| 1990|  >50K|\n",
      "| Prof-school|  592|  >50K|\n",
      "|        10th| 1141| <=50K|\n",
      "|     Masters| 1121| <=50K|\n",
      "|     5th-6th|  427| <=50K|\n",
      "|  Assoc-acdm| 1109| <=50K|\n",
      "+------------+-----+------+\n",
      "only showing top 20 rows\n",
      "\n"
     ]
    }
   ],
   "source": [
    "#对学历分析\n",
    "df_education = df.select(df[\"education\"],df[\"income\"])\n",
    "#  >50K \n",
    "df_education_1 = df_education.filter(df_education[\"income\"]==\">50K\").groupBy(\"education\").count()\n",
    "df_education_1 = df_education_1.withColumn(\"income\",functions.lit(\">50K\"))\n",
    "#  <=50K \n",
    "df_education_2 = df_education.filter(df_education[\"income\"]==\"<=50K\").groupBy(\"education\").count()\n",
    "df_education_2 = df_education_2.withColumn(\"income\",functions.lit(\"<=50K\"))"
   ]
  },
  {
   "cell_type": "code",
   "execution_count": 58,
   "id": "3954a1b7-cb66-415b-99f8-975146fc7d20",
   "metadata": {},
   "outputs": [],
   "source": [
    "#写入数据库\n",
    "prop = {}\n",
    "prop['user'] = 'root'\n",
    "prop['password'] = '1'\n",
    "prop['driver'] = \"com.mysql.jdbc.Driver\"\n",
    "df_education_1.write.jdbc(\"jdbc:mysql://192.168.43.190:3306/spark?serverTimezone=UTC&&useSSL=false\",'education_1','append', prop)"
   ]
  },
  {
   "cell_type": "code",
   "execution_count": 59,
   "id": "529006f7-8ece-4e18-9257-4a797197901b",
   "metadata": {},
   "outputs": [],
   "source": [
    "#写入数据库\n",
    "prop = {}\n",
    "prop['user'] = 'root'\n",
    "prop['password'] = '1'\n",
    "prop['driver'] = \"com.mysql.jdbc.Driver\"\n",
    "df_education_2.write.jdbc(\"jdbc:mysql://192.168.43.190:3306/spark?serverTimezone=UTC&&useSSL=false\",'education_2','append', prop)"
   ]
  },
  {
   "cell_type": "code",
   "execution_count": 34,
   "id": "6fa24d35-6a32-4d47-944d-02984c433636",
   "metadata": {
    "scrolled": true
   },
   "outputs": [
    {
     "name": "stdout",
     "output_type": "stream",
     "text": [
      "+-----------------+-----+------+\n",
      "|       occupation|count|income|\n",
      "+-----------------+-----+------+\n",
      "|            Sales| 1455|  >50K|\n",
      "|  Exec-managerial| 2867|  >50K|\n",
      "|   Prof-specialty| 2704|  >50K|\n",
      "|Handlers-cleaners|  135|  >50K|\n",
      "|  Farming-fishing|  172|  >50K|\n",
      "|     Craft-repair| 1355|  >50K|\n",
      "| Transport-moving|  478|  >50K|\n",
      "|  Priv-house-serv|    3|  >50K|\n",
      "|  Protective-serv|  307|  >50K|\n",
      "|    Other-service|  196|  >50K|\n",
      "|     Tech-support|  411|  >50K|\n",
      "|Machine-op-inspct|  365|  >50K|\n",
      "|     Armed-Forces|    4|  >50K|\n",
      "|     Adm-clerical|  756|  >50K|\n",
      "|            Sales| 3953| <=50K|\n",
      "|  Exec-managerial| 3117| <=50K|\n",
      "|   Prof-specialty| 3304| <=50K|\n",
      "|Handlers-cleaners| 1911| <=50K|\n",
      "|  Farming-fishing| 1308| <=50K|\n",
      "|     Craft-repair| 4665| <=50K|\n",
      "+-----------------+-----+------+\n",
      "only showing top 20 rows\n",
      "\n"
     ]
    }
   ],
   "source": [
    "#对职业分析\n",
    "df_occupation = df.select(df[\"occupation\"],df[\"income\"])\n",
    "#  >50K \n",
    "df_occupation_1 = df_occupation.filter(df_occupation[\"income\"]==\">50K\").groupBy(\"occupation\").count()\n",
    "df_occupation_1 = df_occupation_1.withColumn(\"income\",functions.lit(\">50K\"))\n",
    "#  <=50K \n",
    "df_occupation_2 = df_occupation.filter(df_occupation[\"income\"]==\"<=50K\").groupBy(\"occupation\").count()\n",
    "df_occupation_2 = df_occupation_2.withColumn(\"income\",functions.lit(\"<=50K\"))\n"
   ]
  },
  {
   "cell_type": "code",
   "execution_count": 60,
   "id": "24eca5fc-7a04-448b-a2bc-f5594ab8c953",
   "metadata": {},
   "outputs": [],
   "source": [
    "#写入数据库\n",
    "prop = {}\n",
    "prop['user'] = 'root'\n",
    "prop['password'] = '1'\n",
    "prop['driver'] = \"com.mysql.jdbc.Driver\"\n",
    "df_occupation_1.write.jdbc(\"jdbc:mysql://192.168.43.190:3306/spark?serverTimezone=UTC&&useSSL=false\",'occupation_1','append', prop)"
   ]
  },
  {
   "cell_type": "code",
   "execution_count": 61,
   "id": "6543146e-80d3-4728-8fe0-0e1d1af88036",
   "metadata": {},
   "outputs": [],
   "source": [
    "#写入数据库\n",
    "prop = {}\n",
    "prop['user'] = 'root'\n",
    "prop['password'] = '1'\n",
    "prop['driver'] = \"com.mysql.jdbc.Driver\"\n",
    "df_occupation_2.write.jdbc(\"jdbc:mysql://192.168.43.190:3306/spark?serverTimezone=UTC&&useSSL=false\",'occupation_2','append', prop)"
   ]
  },
  {
   "cell_type": "code",
   "execution_count": null,
   "id": "7f4c926f-dd80-41c5-8303-3de4f9de3b6f",
   "metadata": {},
   "outputs": [],
   "source": []
  },
  {
   "cell_type": "code",
   "execution_count": 62,
   "id": "1812277f-96ea-4a0e-ab19-68eea6fa1366",
   "metadata": {},
   "outputs": [
    {
     "name": "stdout",
     "output_type": "stream",
     "text": [
      "+------+-----+-----------+\n",
      "|income|count|hours_stage|\n",
      "+------+-----+-----------+\n",
      "|  >50K|  481|  shortTime|\n",
      "|  >50K|10164| middleTime|\n",
      "|  >50K|  563|   loneTime|\n",
      "+------+-----+-----------+\n",
      "\n"
     ]
    }
   ],
   "source": [
    "#对每周工作时间分析\n",
    "df_hours = df.select(df[\"hours-per-week\"],df[\"income\"])\n",
    "from pyspark.sql import functions\n",
    "# 0~35 income>50\n",
    "df_hours_1 = df_hours.filter(df_hours[\"hours-per-week\"]>0).filter(df_hours[\"hours-per-week\"]<35).filter(df_age[\"income\"]==\">50K\").groupBy(\"income\").count().withColumn(\"hours_stage\",functions.lit(\"shortTime\"))\n",
    "# 35~65 income>50\n",
    "df_hours_2 = df_hours.filter(df_hours[\"hours-per-week\"]>=35).filter(df_hours[\"hours-per-week\"]<65).filter(df_age[\"income\"]==\">50K\").groupBy(\"income\").count().withColumn(\"hours_stage\",functions.lit(\"middleTime\"))\n",
    "# 65~100 income>50\n",
    "df_hours_3 = df_hours.filter(df_hours[\"hours-per-week\"]>=65).filter(df_hours[\"hours-per-week\"]<100).filter(df_age[\"income\"]==\">50K\").groupBy(\"income\").count().withColumn(\"hours_stage\",functions.lit(\"loneTime\"))\n",
    "#合并多个df\n",
    "from functools import reduce\n",
    "from pyspark.sql import DataFrame\n",
    "def unionAll(*dfs):\n",
    "    return reduce(DataFrame.unionAll,dfs)\n",
    "\n",
    "df_list=[df_hours_1,df_hours_2,df_hours_3]\n",
    "df_hours_merge = unionAll(*df_list)\n",
    "df_hours_merge.show()"
   ]
  },
  {
   "cell_type": "code",
   "execution_count": 64,
   "id": "ac5335bc-c35a-4dd9-99a7-ae8dd9dc34e1",
   "metadata": {},
   "outputs": [],
   "source": [
    "#写入数据库\n",
    "prop = {}\n",
    "prop['user'] = 'root'\n",
    "prop['password'] = '1'\n",
    "prop['driver'] = \"com.mysql.jdbc.Driver\"\n",
    "df_hours_merge.write.jdbc(\"jdbc:mysql://192.168.43.190:3306/spark?serverTimezone=UTC&&useSSL=false\",'hours_1','append', prop)"
   ]
  },
  {
   "cell_type": "code",
   "execution_count": 63,
   "id": "71c75945-3259-41e4-bd6a-82812a6bec61",
   "metadata": {},
   "outputs": [
    {
     "name": "stdout",
     "output_type": "stream",
     "text": [
      "+------+-----+-----------+\n",
      "|income|count|hours_stage|\n",
      "+------+-----+-----------+\n",
      "| <=50K| 6543|  shortTime|\n",
      "| <=50K|26507| middleTime|\n",
      "| <=50K|  964|   loneTime|\n",
      "+------+-----+-----------+\n",
      "\n"
     ]
    }
   ],
   "source": [
    "#对每周工作时间分析\n",
    "df_hours = df.select(df[\"hours-per-week\"],df[\"income\"])\n",
    "from pyspark.sql import functions\n",
    "# 0~35 income<=50\n",
    "df_hours_4 = df_hours.filter(df_hours[\"hours-per-week\"]>0).filter(df_hours[\"hours-per-week\"]<35).filter(df_age[\"income\"]==\"<=50K\").groupBy(\"income\").count().withColumn(\"hours_stage\",functions.lit(\"shortTime\"))\n",
    "# 35~65 income<=50\n",
    "df_hours_5 = df_hours.filter(df_hours[\"hours-per-week\"]>=35).filter(df_hours[\"hours-per-week\"]<65).filter(df_age[\"income\"]==\"<=50K\").groupBy(\"income\").count().withColumn(\"hours_stage\",functions.lit(\"middleTime\"))\n",
    "# 65~100 income<=50\n",
    "df_hours_6 = df_hours.filter(df_hours[\"hours-per-week\"]>=65).filter(df_hours[\"hours-per-week\"]<100).filter(df_age[\"income\"]==\"<=50K\").groupBy(\"income\").count().withColumn(\"hours_stage\",functions.lit(\"loneTime\"))\n",
    "#合并多个df\n",
    "from functools import reduce\n",
    "from pyspark.sql import DataFrame\n",
    "def unionAll(*dfs):\n",
    "    return reduce(DataFrame.unionAll,dfs)\n",
    "\n",
    "df_list=[df_hours_4,df_hours_5,df_hours_6]\n",
    "df_hours_merge_2 = unionAll(*df_list)\n",
    "df_hours_merge_2.show()"
   ]
  },
  {
   "cell_type": "code",
   "execution_count": 65,
   "id": "f688a858-1849-403e-87be-c07e311eeef0",
   "metadata": {},
   "outputs": [],
   "source": [
    "#写入数据库\n",
    "prop = {}\n",
    "prop['user'] = 'root'\n",
    "prop['password'] = '1'\n",
    "prop['driver'] = \"com.mysql.jdbc.Driver\"\n",
    "df_hours_merge_2.write.jdbc(\"jdbc:mysql://192.168.43.190:3306/spark?serverTimezone=UTC&&useSSL=false\",'hours_2','append', prop)"
   ]
  },
  {
   "cell_type": "code",
   "execution_count": 67,
   "id": "d6a74f7e-5b10-4421-ba5f-d9498ca57acc",
   "metadata": {},
   "outputs": [
    {
     "data": {
      "text/plain": [
       "DataFrame[summary: string, age: string, workclass: string, fnlwgt: string, education: string, education-num: string, marital-status: string, occupation: string, relationship: string, race: string, sex: string, capital-gain: string, capital-loss: string, hours-per-week: string, native-country: string, income: string]"
      ]
     },
     "execution_count": 67,
     "metadata": {},
     "output_type": "execute_result"
    }
   ],
   "source": [
    "\n",
    "df.describe()"
   ]
  },
  {
   "cell_type": "code",
   "execution_count": 68,
   "id": "86f349b4-acfd-4a81-a15e-d081408e6306",
   "metadata": {
    "scrolled": true
   },
   "outputs": [
    {
     "name": "stdout",
     "output_type": "stream",
     "text": [
      "+--------------+-----+------+\n",
      "|native-country|count|income|\n",
      "+--------------+-----+------+\n",
      "|   Philippines|   84|  >50K|\n",
      "|       Germany|   58|  >50K|\n",
      "|      Cambodia|    9|  >50K|\n",
      "|        France|   16|  >50K|\n",
      "|        Greece|   18|  >50K|\n",
      "|        Taiwan|   25|  >50K|\n",
      "|       Ecuador|    6|  >50K|\n",
      "|     Nicaragua|    3|  >50K|\n",
      "|          Hong|    8|  >50K|\n",
      "|          Peru|    4|  >50K|\n",
      "|         China|   36|  >50K|\n",
      "|         India|   62|  >50K|\n",
      "|         Italy|   33|  >50K|\n",
      "|          Cuba|   34|  >50K|\n",
      "|         South|   18|  >50K|\n",
      "|          Iran|   22|  >50K|\n",
      "|       Ireland|   10|  >50K|\n",
      "|      Thailand|    5|  >50K|\n",
      "|          Laos|    2|  >50K|\n",
      "|   El-Salvador|   11|  >50K|\n",
      "+--------------+-----+------+\n",
      "only showing top 20 rows\n",
      "\n"
     ]
    }
   ],
   "source": [
    "df_country = df.select(df[\"native-country\"],df[\"income\"])\n",
    "#  >50K \n",
    "df_country_1 = df_country.filter(df_country[\"income\"]==\">50K\").groupBy(\"native-country\").count()\n",
    "df_country_1 = df_country_1.withColumn(\"income\",functions.lit(\">50K\"))\n",
    "df_country_1.show()"
   ]
  },
  {
   "cell_type": "code",
   "execution_count": 69,
   "id": "e65cd169-f8cf-46f4-8619-ab0ff49428fb",
   "metadata": {
    "scrolled": true
   },
   "outputs": [
    {
     "name": "stdout",
     "output_type": "stream",
     "text": [
      "+------------------+-----+------+\n",
      "|    native-country|count|income|\n",
      "+------------------+-----+------+\n",
      "|       Philippines|  199| <=50K|\n",
      "|           Germany|  135| <=50K|\n",
      "|          Cambodia|   17| <=50K|\n",
      "|            France|   20| <=50K|\n",
      "|            Greece|   31| <=50K|\n",
      "|            Taiwan|   30| <=50K|\n",
      "|           Ecuador|   37| <=50K|\n",
      "|         Nicaragua|   45| <=50K|\n",
      "|              Hong|   20| <=50K|\n",
      "|              Peru|   41| <=50K|\n",
      "|             India|   85| <=50K|\n",
      "|             China|   77| <=50K|\n",
      "|             Italy|   67| <=50K|\n",
      "|Holand-Netherlands|    1| <=50K|\n",
      "|              Cuba|   99| <=50K|\n",
      "|             South|   83| <=50K|\n",
      "|              Iran|   34| <=50K|\n",
      "|           Ireland|   26| <=50K|\n",
      "|          Thailand|   24| <=50K|\n",
      "|              Laos|   19| <=50K|\n",
      "+------------------+-----+------+\n",
      "only showing top 20 rows\n",
      "\n"
     ]
    }
   ],
   "source": [
    "#  >50K \n",
    "df_country_2 = df_country.filter(df_country[\"income\"]==\"<=50K\").groupBy(\"native-country\").count()\n",
    "df_country_2 = df_country_2.withColumn(\"income\",functions.lit(\"<=50K\"))\n",
    "df_country_2.show()"
   ]
  },
  {
   "cell_type": "code",
   "execution_count": 70,
   "id": "aae6b950-ff4b-4703-a89f-660dbc6b672c",
   "metadata": {},
   "outputs": [],
   "source": [
    "#写入数据库\n",
    "prop = {}\n",
    "prop['user'] = 'root'\n",
    "prop['password'] = '1'\n",
    "prop['driver'] = \"com.mysql.jdbc.Driver\"\n",
    "df_country_1.write.jdbc(\"jdbc:mysql://192.168.43.190:3306/spark?serverTimezone=UTC&&useSSL=false\",'country_1','append', prop)"
   ]
  },
  {
   "cell_type": "code",
   "execution_count": 71,
   "id": "a731b707-e17b-4c47-a37e-200d699f2706",
   "metadata": {},
   "outputs": [],
   "source": [
    "#写入数据库\n",
    "prop = {}\n",
    "prop['user'] = 'root'\n",
    "prop['password'] = '1'\n",
    "prop['driver'] = \"com.mysql.jdbc.Driver\"\n",
    "df_country_2.write.jdbc(\"jdbc:mysql://192.168.43.190:3306/spark?serverTimezone=UTC&&useSSL=false\",'country_2','append', prop)"
   ]
  },
  {
   "cell_type": "code",
   "execution_count": null,
   "id": "0d09e154-4609-49a2-b7dd-38bb9daddc93",
   "metadata": {},
   "outputs": [],
   "source": []
  }
 ],
 "metadata": {
  "kernelspec": {
   "display_name": "Python 3 (ipykernel)",
   "language": "python",
   "name": "python3"
  },
  "language_info": {
   "codemirror_mode": {
    "name": "ipython",
    "version": 3
   },
   "file_extension": ".py",
   "mimetype": "text/x-python",
   "name": "python",
   "nbconvert_exporter": "python",
   "pygments_lexer": "ipython3",
   "version": "3.11.6"
  }
 },
 "nbformat": 4,
 "nbformat_minor": 5
}
